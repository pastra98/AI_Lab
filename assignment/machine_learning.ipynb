{
 "cells": [
  {
   "cell_type": "markdown",
   "metadata": {},
   "source": [
    "# Text"
   ]
  },
  {
   "cell_type": "code",
   "execution_count": 2,
   "metadata": {},
   "outputs": [],
   "source": [
    "import pandas as pd\n",
    "\n",
    "df = pd.read_parquet('data/ml_data.parquet')\n"
   ]
  },
  {
   "cell_type": "code",
   "execution_count": 3,
   "metadata": {},
   "outputs": [
    {
     "data": {
      "text/html": [
       "<div>\n",
       "<style scoped>\n",
       "    .dataframe tbody tr th:only-of-type {\n",
       "        vertical-align: middle;\n",
       "    }\n",
       "\n",
       "    .dataframe tbody tr th {\n",
       "        vertical-align: top;\n",
       "    }\n",
       "\n",
       "    .dataframe thead th {\n",
       "        text-align: right;\n",
       "    }\n",
       "</style>\n",
       "<table border=\"1\" class=\"dataframe\">\n",
       "  <thead>\n",
       "    <tr style=\"text-align: right;\">\n",
       "      <th></th>\n",
       "      <th>inputs</th>\n",
       "      <th>target</th>\n",
       "    </tr>\n",
       "  </thead>\n",
       "  <tbody>\n",
       "    <tr>\n",
       "      <th>0</th>\n",
       "      <td>[12, 6, 23, 1, 2, 3, 4, 5, 6, 7, 8, 9, 10, 11,...</td>\n",
       "      <td>18</td>\n",
       "    </tr>\n",
       "    <tr>\n",
       "      <th>1</th>\n",
       "      <td>[12, 6, 22, 19, 20, 21, 22, 23, 8, 24, 11, 11,...</td>\n",
       "      <td>12</td>\n",
       "    </tr>\n",
       "    <tr>\n",
       "      <th>2</th>\n",
       "      <td>[12, 6, 21, 30, 31, 32, 33, 34, 23, 35, 8, 36,...</td>\n",
       "      <td>34</td>\n",
       "    </tr>\n",
       "    <tr>\n",
       "      <th>3</th>\n",
       "      <td>[12, 6, 21, 44, 4, 45, 46, 6, 47, 8, 48, 11, 1...</td>\n",
       "      <td>20</td>\n",
       "    </tr>\n",
       "    <tr>\n",
       "      <th>4</th>\n",
       "      <td>[12, 6, 20, 55, 56, 57, 11, 58, 59, 4, 60, 61,...</td>\n",
       "      <td>3</td>\n",
       "    </tr>\n",
       "    <tr>\n",
       "      <th>...</th>\n",
       "      <td>...</td>\n",
       "      <td>...</td>\n",
       "    </tr>\n",
       "    <tr>\n",
       "      <th>181111</th>\n",
       "      <td>[12, 4, 6, 2223, 1518, 12, 2659, 11, 8, 9887, ...</td>\n",
       "      <td>1</td>\n",
       "    </tr>\n",
       "    <tr>\n",
       "      <th>181112</th>\n",
       "      <td>[12, 4, 6, 55964, 1816, 11, 191, 185, 8799, 24...</td>\n",
       "      <td>39</td>\n",
       "    </tr>\n",
       "    <tr>\n",
       "      <th>181113</th>\n",
       "      <td>[12, 4, 6, 48567, 11, 11, 1150, 65, 454, 607, ...</td>\n",
       "      <td>25</td>\n",
       "    </tr>\n",
       "    <tr>\n",
       "      <th>181114</th>\n",
       "      <td>[12, 4, 5, 1560, 7775, 171, 10598, 3480, 171, ...</td>\n",
       "      <td>20</td>\n",
       "    </tr>\n",
       "    <tr>\n",
       "      <th>181115</th>\n",
       "      <td>[12, 4, 0, 1800, 4746, 353340, 8, 1800, 11, 11...</td>\n",
       "      <td>3</td>\n",
       "    </tr>\n",
       "  </tbody>\n",
       "</table>\n",
       "<p>181116 rows × 2 columns</p>\n",
       "</div>"
      ],
      "text/plain": [
       "                                                   inputs  target\n",
       "0       [12, 6, 23, 1, 2, 3, 4, 5, 6, 7, 8, 9, 10, 11,...      18\n",
       "1       [12, 6, 22, 19, 20, 21, 22, 23, 8, 24, 11, 11,...      12\n",
       "2       [12, 6, 21, 30, 31, 32, 33, 34, 23, 35, 8, 36,...      34\n",
       "3       [12, 6, 21, 44, 4, 45, 46, 6, 47, 8, 48, 11, 1...      20\n",
       "4       [12, 6, 20, 55, 56, 57, 11, 58, 59, 4, 60, 61,...       3\n",
       "...                                                   ...     ...\n",
       "181111  [12, 4, 6, 2223, 1518, 12, 2659, 11, 8, 9887, ...       1\n",
       "181112  [12, 4, 6, 55964, 1816, 11, 191, 185, 8799, 24...      39\n",
       "181113  [12, 4, 6, 48567, 11, 11, 1150, 65, 454, 607, ...      25\n",
       "181114  [12, 4, 5, 1560, 7775, 171, 10598, 3480, 171, ...      20\n",
       "181115  [12, 4, 0, 1800, 4746, 353340, 8, 1800, 11, 11...       3\n",
       "\n",
       "[181116 rows x 2 columns]"
      ]
     },
     "execution_count": 3,
     "metadata": {},
     "output_type": "execute_result"
    }
   ],
   "source": [
    "df"
   ]
  },
  {
   "cell_type": "code",
   "execution_count": null,
   "metadata": {},
   "outputs": [],
   "source": []
  }
 ],
 "metadata": {
  "kernelspec": {
   "display_name": "Python 3",
   "language": "python",
   "name": "python3"
  },
  "language_info": {
   "codemirror_mode": {
    "name": "ipython",
    "version": 3
   },
   "file_extension": ".py",
   "mimetype": "text/x-python",
   "name": "python",
   "nbconvert_exporter": "python",
   "pygments_lexer": "ipython3",
   "version": "3.12.0"
  }
 },
 "nbformat": 4,
 "nbformat_minor": 2
}
