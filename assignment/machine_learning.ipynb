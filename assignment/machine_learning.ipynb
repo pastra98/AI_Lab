{
 "cells": [
  {
   "cell_type": "markdown",
   "metadata": {},
   "source": [
    "# Machine Learning\n",
    "## Loading Data"
   ]
  },
  {
   "cell_type": "code",
   "execution_count": 13,
   "metadata": {},
   "outputs": [
    {
     "data": {
      "text/html": [
       "<div>\n",
       "<style scoped>\n",
       "    .dataframe tbody tr th:only-of-type {\n",
       "        vertical-align: middle;\n",
       "    }\n",
       "\n",
       "    .dataframe tbody tr th {\n",
       "        vertical-align: top;\n",
       "    }\n",
       "\n",
       "    .dataframe thead th {\n",
       "        text-align: right;\n",
       "    }\n",
       "</style>\n",
       "<table border=\"1\" class=\"dataframe\">\n",
       "  <thead>\n",
       "    <tr style=\"text-align: right;\">\n",
       "      <th></th>\n",
       "      <th>inputs</th>\n",
       "      <th>target</th>\n",
       "      <th>n_posts</th>\n",
       "    </tr>\n",
       "  </thead>\n",
       "  <tbody>\n",
       "    <tr>\n",
       "      <th>0</th>\n",
       "      <td>[0.45066947, 0.22533473, 0.8637831, 0.13968499...</td>\n",
       "      <td>18</td>\n",
       "      <td>30</td>\n",
       "    </tr>\n",
       "    <tr>\n",
       "      <th>1</th>\n",
       "      <td>[0.4656903, 0.23284516, 0.8537656, -0.02034902...</td>\n",
       "      <td>12</td>\n",
       "      <td>16</td>\n",
       "    </tr>\n",
       "    <tr>\n",
       "      <th>2</th>\n",
       "      <td>[0.48154342, 0.24077171, 0.84270096, 0.3549081...</td>\n",
       "      <td>34</td>\n",
       "      <td>104</td>\n",
       "    </tr>\n",
       "    <tr>\n",
       "      <th>3</th>\n",
       "      <td>[0.48154342, 0.24077171, 0.84270096, -0.196450...</td>\n",
       "      <td>20</td>\n",
       "      <td>35</td>\n",
       "    </tr>\n",
       "    <tr>\n",
       "      <th>4</th>\n",
       "      <td>[0.49827287, 0.24913643, 0.8304548, 0.1336856,...</td>\n",
       "      <td>3</td>\n",
       "      <td>4</td>\n",
       "    </tr>\n",
       "  </tbody>\n",
       "</table>\n",
       "</div>"
      ],
      "text/plain": [
       "                                              inputs  target  n_posts\n",
       "0  [0.45066947, 0.22533473, 0.8637831, 0.13968499...      18       30\n",
       "1  [0.4656903, 0.23284516, 0.8537656, -0.02034902...      12       16\n",
       "2  [0.48154342, 0.24077171, 0.84270096, 0.3549081...      34      104\n",
       "3  [0.48154342, 0.24077171, 0.84270096, -0.196450...      20       35\n",
       "4  [0.49827287, 0.24913643, 0.8304548, 0.1336856,...       3        4"
      ]
     },
     "execution_count": 13,
     "metadata": {},
     "output_type": "execute_result"
    }
   ],
   "source": [
    "import pandas as pd\n",
    "\n",
    "df = pd.read_parquet('data/ml_data.parquet')\n",
    "df.head()\n"
   ]
  },
  {
   "cell_type": "markdown",
   "metadata": {},
   "source": [
    "## Loading df into torch, train test split"
   ]
  },
  {
   "cell_type": "code",
   "execution_count": 26,
   "metadata": {},
   "outputs": [
    {
     "name": "stdout",
     "output_type": "stream",
     "text": [
      "We are using  cuda\n"
     ]
    }
   ],
   "source": [
    "import torch\n",
    "from torch.utils.data import DataLoader, TensorDataset, random_split\n",
    "\n",
    "# Using cuda\n",
    "my_device = torch.device(\"cuda\" if torch.cuda.is_available() else \"cpu\")\n",
    "print('We are using ', my_device)\n",
    "\n",
    "# Create a TensorDataset\n",
    "inputs = torch.tensor(df['inputs'].tolist(), device=my_device)\n",
    "targets = torch.tensor(df['target'].values, device=my_device)\n",
    "dataset = TensorDataset(inputs, targets)\n",
    "\n",
    "# Split into training and test set\n",
    "train_size = int(0.8 * len(dataset))\n",
    "test_size = len(dataset) - train_size\n",
    "train_dataset, test_dataset = random_split(dataset, [train_size, test_size])\n",
    "\n",
    "# Create DataLoaders\n",
    "batch_size = 32\n",
    "train_loader = DataLoader(train_dataset, batch_size=batch_size, shuffle=True)\n",
    "test_loader = DataLoader(test_dataset, batch_size=batch_size, shuffle=False)\n"
   ]
  },
  {
   "cell_type": "markdown",
   "metadata": {},
   "source": [
    "## Model definitions\n",
    "### Deep regression network"
   ]
  },
  {
   "cell_type": "code",
   "execution_count": 27,
   "metadata": {},
   "outputs": [],
   "source": [
    "import torch.nn as nn\n",
    "import torch.nn.functional as F\n",
    "\n",
    "\n",
    "class RegressionNN(nn.Module):\n",
    "    def __init__(self, drop, layer_sizes):\n",
    "        super(RegressionNN, self).__init__()\n",
    "\n",
    "        # Create layers dynamically\n",
    "        self.layers = nn.ModuleList()\n",
    "        for i in range(len(layer_sizes)-1):\n",
    "            self.layers.append(nn.Linear(layer_sizes[i], layer_sizes[i+1]))\n",
    "\n",
    "        # Dropout layer\n",
    "        self.dropout = nn.Dropout(drop)\n",
    "\n",
    "        # Output layer\n",
    "        self.output_layer = nn.Linear(layer_sizes[-1], 1)\n",
    "\n",
    "    def forward(self, x):\n",
    "        # Forward pass through each layer with ReLU activation and dropout\n",
    "        for layer in self.layers:\n",
    "            x = F.relu(layer(x))\n",
    "            x = self.dropout(x)\n",
    "\n",
    "        # Forward pass through the output layer\n",
    "        x = self.output_layer(x)\n",
    "        return x\n"
   ]
  },
  {
   "cell_type": "markdown",
   "metadata": {},
   "source": [
    "## Training loop"
   ]
  },
  {
   "cell_type": "code",
   "execution_count": 43,
   "metadata": {},
   "outputs": [],
   "source": [
    "import torch\n",
    "import torch.optim as optim\n",
    "from tqdm import tqdm\n",
    "\n",
    "# Training loop\n",
    "def train(model, epochs, learning_rate, criterion=nn.MSELoss()):\n",
    "    # Define loss function and optimizer\n",
    "    optimizer = optim.Adam(model.parameters(), lr=learning_rate)\n",
    "    # loop through epochs\n",
    "    for epoch in tqdm(range(epochs)):\n",
    "        losses = []\n",
    "        model.train()\n",
    "        total_loss = 0\n",
    "\n",
    "        for inputs, targets in train_loader:\n",
    "            inputs, targets = inputs.to(my_device), targets.to(my_device)\n",
    "            optimizer.zero_grad()\n",
    "            outputs = model(inputs.float())\n",
    "            loss = criterion(outputs.squeeze(), targets.float())\n",
    "            loss.backward()\n",
    "            optimizer.step()\n",
    "            total_loss += loss.item()\n",
    "\n",
    "        epoch_loss = total_loss/len(train_loader)\n",
    "        # print(f\"Epoch {epoch+1}/{epochs}, Loss: {epoch_loss:.4f}\")\n",
    "        losses.append(epoch_loss)\n",
    "    return losses\n"
   ]
  },
  {
   "cell_type": "markdown",
   "metadata": {},
   "source": [
    "## Evaluation\n",
    "### On test set"
   ]
  },
  {
   "cell_type": "code",
   "execution_count": 40,
   "metadata": {},
   "outputs": [],
   "source": [
    "def eval_on_test(model, criterion=nn.MSELoss()):\n",
    "    model.eval()\n",
    "    test_loss = 0\n",
    "    with torch.no_grad():\n",
    "        for inputs, targets in test_loader:\n",
    "            inputs, targets = inputs.to(my_device), targets.to(my_device)\n",
    "            outputs = model(inputs.float())\n",
    "            loss = criterion(outputs.squeeze(), targets.float())\n",
    "            test_loss += loss.item()\n",
    "    print(f\"Test Loss: {test_loss/len(test_loader)}\")\n"
   ]
  },
  {
   "cell_type": "markdown",
   "metadata": {},
   "source": [
    "### Plotting the loss curve"
   ]
  },
  {
   "cell_type": "code",
   "execution_count": 30,
   "metadata": {},
   "outputs": [],
   "source": [
    "import matplotlib.pyplot as plt\n",
    "\n",
    "def plot_losses(losses):\n",
    "    # Plot the losses\n",
    "    plt.plot(losses)\n",
    "    plt.xlabel('Epoch')\n",
    "    plt.ylabel('Loss')\n",
    "    plt.title('Loss Curve')\n",
    "    plt.show()\n"
   ]
  },
  {
   "cell_type": "markdown",
   "metadata": {},
   "source": [
    "### Testing on the current frontpage"
   ]
  },
  {
   "cell_type": "code",
   "execution_count": 31,
   "metadata": {},
   "outputs": [],
   "source": [
    "import numpy as np\n",
    "from datetime import datetime, timedelta\n",
    "from bs4 import BeautifulSoup\n",
    "import requests\n",
    "import spacy\n",
    "\n",
    "def get_final_articles_df(date):\n",
    "    link = f'https://www.derstandard.at/frontpage/{date.strftime('%Y/%m/%d')}'\n",
    "    # fetch the html content of a derstandard.at page\n",
    "    response = requests.get(link, cookies={'DSGVO_ZUSAGE_V1': 'true'})\n",
    "    soup = BeautifulSoup(response.content, 'html.parser')\n",
    "    # get the articles\n",
    "    articles_dict = {}\n",
    "    articles = soup.select('div.chronological>section article')\n",
    "    for article in articles:\n",
    "        title_tag = article.find('a')\n",
    "        if title_tag and title_tag.has_attr('title'):\n",
    "            title = title_tag['title']\n",
    "            articles_dict[title] = article\n",
    "    # make a list of the articles\n",
    "    HOST = 'https://www.derstandard.at'\n",
    "    article_data = []\n",
    "    for title, article in articles_dict.items():\n",
    "        data = {\n",
    "            'title': title,\n",
    "            'teaser-subtitle': None,\n",
    "            'link': None,\n",
    "            'time': None,\n",
    "            'teaser-kicker': None,\n",
    "            'n_posts': None,\n",
    "            'storylabels': None\n",
    "        }\n",
    "        link = article.find('a')['href']\n",
    "        if not link.startswith(HOST):\n",
    "            link = HOST + link\n",
    "        data['link'] = link\n",
    "        time = [tag for tag in article.find_all('time') if 'datetime' in tag.attrs][0]\n",
    "        data['time'] = time['datetime'].rstrip('\\r\\n')\n",
    "        n_posts = article.find('div', 'teaser-postingcount')\n",
    "        try: data['n_posts'] = int(n_posts.get_text(strip=True).rstrip('Posting').replace('.', ''))\n",
    "        except: data['n_posts'] = 0\n",
    "        for tag, class_name in [('p', 'teaser-kicker'), \n",
    "                                ('p', 'teaser-subtitle'), \n",
    "                                ('div', 'storylabels')]:\n",
    "            found_tag = article.find(tag, class_=class_name)\n",
    "            if found_tag:\n",
    "                data[class_name] = found_tag.get_text(strip=True)\n",
    "        article_data.append(data)\n",
    "    # make a df\n",
    "    df = pd.DataFrame(article_data)\n",
    "    df.columns = df.columns.str.replace('teaser-', '')\n",
    "    df.rename(columns={'time': 'datetime'}, inplace=True)\n",
    "    df['datetime'] = pd.to_datetime(df['datetime'])\n",
    "    df['text'] = df['title'] +  df['kicker'].fillna('') + df['subtitle'].fillna('')\n",
    "    # add embeddings\n",
    "    nlp = spacy.load(\"de_core_news_lg\")\n",
    "    df['doc_vector'] = df['text'].apply(lambda t: nlp(t).vector)\n",
    "    # add date\n",
    "    def process_row(row):\n",
    "        date_vector = np.array([\n",
    "            row['datetime'].month,\n",
    "            row['datetime'].weekday(),\n",
    "            row['datetime'].hour\n",
    "            ])\n",
    "        # Normalize the date_vector, ensure it is float32 like the doc vectors\n",
    "        norm_date_vector = (date_vector / np.linalg.norm(date_vector)).astype(np.float32)\n",
    "        return np.concatenate((norm_date_vector, row['doc_vector']))\n",
    "    df['inputs'] = df.apply(process_row, axis=1)\n",
    "    return df\n",
    "\n",
    "\n",
    "def compare_prediction_for_date(model, date):\n",
    "    # fetch articles for the date\n",
    "    articles = get_final_articles_df(date)\n",
    "    target_map = pd.read_csv('data/target_map.csv')\n",
    "\n",
    "    for i, row in articles.iterrows():\n",
    "        input_data = torch.tensor(row['inputs'], dtype=torch.float)\n",
    "        input_data = input_data.to(next(model.parameters()).device)\n",
    "\n",
    "        # Reshape the input data and pass it through the model\n",
    "        input_data = input_data.unsqueeze(0)  # Add a batch dimension\n",
    "        with torch.no_grad():\n",
    "            output = model(input_data)\n",
    "\n",
    "        target_index = int(output.item())\n",
    "        predicted_b = target_map.iloc[target_index]['bounds']\n",
    "        actual = row['n_posts']\n",
    "        print(f\"Predicted: {predicted_b}, Actual: {actual}\")"
   ]
  },
  {
   "cell_type": "markdown",
   "metadata": {},
   "source": [
    "### Wrapping it all into a single function"
   ]
  },
  {
   "cell_type": "code",
   "execution_count": 32,
   "metadata": {},
   "outputs": [],
   "source": [
    "def eval_trained_model(model, losses, date):\n",
    "    plot_losses(losses)\n",
    "    eval_on_test(model)\n",
    "    compare_prediction_for_date(model, date)"
   ]
  },
  {
   "cell_type": "markdown",
   "metadata": {},
   "source": [
    "## Testing different models"
   ]
  },
  {
   "cell_type": "code",
   "execution_count": 33,
   "metadata": {},
   "outputs": [],
   "source": [
    "# pick test date one week ago\n",
    "test_date = datetime.now() - timedelta(days=7)"
   ]
  },
  {
   "cell_type": "markdown",
   "metadata": {},
   "source": [
    "### Small regression Model"
   ]
  },
  {
   "cell_type": "code",
   "execution_count": 44,
   "metadata": {},
   "outputs": [
    {
     "name": "stdout",
     "output_type": "stream",
     "text": [
      "training small model\n"
     ]
    },
    {
     "name": "stderr",
     "output_type": "stream",
     "text": [
      " 80%|████████  | 8/10 [01:54<00:31, 15.53s/it]"
     ]
    }
   ],
   "source": [
    "small_model = RegressionNN(\n",
    "    drop = 0.3,\n",
    "    layer_sizes = [303, 128, 64]\n",
    "    ).to(my_device)\n",
    "\n",
    "print('training small model')\n",
    "small_losses = train(small_model, epochs=10, learning_rate=0.001)\n",
    "print('evaluating small model')\n",
    "eval_trained_model(small_model, small_losses, test_date)"
   ]
  },
  {
   "cell_type": "markdown",
   "metadata": {},
   "source": [
    "### Big regression Model"
   ]
  },
  {
   "cell_type": "code",
   "execution_count": 23,
   "metadata": {},
   "outputs": [
    {
     "data": {
      "image/png": "[encoded data removed]",
      "text/plain": [
       "<Figure size 640x480 with 1 Axes>"
      ]
     },
     "metadata": {},
     "output_type": "display_data"
    },
    {
     "ename": "RuntimeError",
     "evalue": "Boolean value of Tensor with more than one value is ambiguous",
     "output_type": "error",
     "traceback": [
      "\u001b[1;31m---------------------------------------------------------------------------\u001b[0m",
      "\u001b[1;31mRuntimeError\u001b[0m                              Traceback (most recent call last)",
      "Cell \u001b[1;32mIn[23], line 7\u001b[0m\n\u001b[0;32m      1\u001b[0m \u001b[38;5;66;03m# big_model = RegressionNN(\u001b[39;00m\n\u001b[0;32m      2\u001b[0m \u001b[38;5;66;03m#     drop = 0.5,\u001b[39;00m\n\u001b[0;32m      3\u001b[0m \u001b[38;5;66;03m#     layer_sizes = [303, 303, 256, 256, 256, 128, 128, 64]\u001b[39;00m\n\u001b[0;32m      4\u001b[0m \u001b[38;5;66;03m#     ).to(my_device)\u001b[39;00m\n\u001b[0;32m      5\u001b[0m \n\u001b[0;32m      6\u001b[0m \u001b[38;5;66;03m# big_losses = train(big_model, epochs=10)\u001b[39;00m\n\u001b[1;32m----> 7\u001b[0m \u001b[43meval_trained_model\u001b[49m\u001b[43m(\u001b[49m\u001b[43mmodel\u001b[49m\u001b[43m,\u001b[49m\u001b[43m \u001b[49m\u001b[43mlosses\u001b[49m\u001b[43m,\u001b[49m\u001b[43m \u001b[49m\u001b[43mtest_date\u001b[49m\u001b[43m)\u001b[49m\n",
      "Cell \u001b[1;32mIn[20], line 3\u001b[0m, in \u001b[0;36meval_trained_model\u001b[1;34m(model, losses, date)\u001b[0m\n\u001b[0;32m      1\u001b[0m \u001b[38;5;28;01mdef\u001b[39;00m \u001b[38;5;21meval_trained_model\u001b[39m(model, losses, date):\n\u001b[0;32m      2\u001b[0m     plot_losses(losses)\n\u001b[1;32m----> 3\u001b[0m     \u001b[43meval_on_test\u001b[49m\u001b[43m(\u001b[49m\u001b[43mmodel\u001b[49m\u001b[43m)\u001b[49m\n\u001b[0;32m      4\u001b[0m     compare_prediction_for_date(model, date)\n",
      "Cell \u001b[1;32mIn[17], line 8\u001b[0m, in \u001b[0;36meval_on_test\u001b[1;34m(model)\u001b[0m\n\u001b[0;32m      6\u001b[0m         inputs, targets \u001b[38;5;241m=\u001b[39m inputs\u001b[38;5;241m.\u001b[39mto(my_device), targets\u001b[38;5;241m.\u001b[39mto(my_device)\n\u001b[0;32m      7\u001b[0m         outputs \u001b[38;5;241m=\u001b[39m model(inputs\u001b[38;5;241m.\u001b[39mfloat())\n\u001b[1;32m----> 8\u001b[0m         loss \u001b[38;5;241m=\u001b[39m \u001b[43mnn\u001b[49m\u001b[38;5;241;43m.\u001b[39;49m\u001b[43mMSELoss\u001b[49m\u001b[43m(\u001b[49m\u001b[43moutputs\u001b[49m\u001b[38;5;241;43m.\u001b[39;49m\u001b[43msqueeze\u001b[49m\u001b[43m(\u001b[49m\u001b[43m)\u001b[49m\u001b[43m,\u001b[49m\u001b[43m \u001b[49m\u001b[43mtargets\u001b[49m\u001b[38;5;241;43m.\u001b[39;49m\u001b[43mfloat\u001b[49m\u001b[43m(\u001b[49m\u001b[43m)\u001b[49m\u001b[43m)\u001b[49m\n\u001b[0;32m      9\u001b[0m         test_loss \u001b[38;5;241m+\u001b[39m\u001b[38;5;241m=\u001b[39m loss\u001b[38;5;241m.\u001b[39mitem()\n\u001b[0;32m     10\u001b[0m \u001b[38;5;28mprint\u001b[39m(\u001b[38;5;124mf\u001b[39m\u001b[38;5;124m\"\u001b[39m\u001b[38;5;124mTest Loss: \u001b[39m\u001b[38;5;132;01m{\u001b[39;00mtest_loss\u001b[38;5;241m/\u001b[39m\u001b[38;5;28mlen\u001b[39m(test_loader)\u001b[38;5;132;01m}\u001b[39;00m\u001b[38;5;124m\"\u001b[39m)\n",
      "File \u001b[1;32mc:\\Users\\Paul\\AppData\\Local\\Programs\\Python\\Python312\\Lib\\site-packages\\torch\\nn\\modules\\loss.py:532\u001b[0m, in \u001b[0;36mMSELoss.__init__\u001b[1;34m(self, size_average, reduce, reduction)\u001b[0m\n\u001b[0;32m    531\u001b[0m \u001b[38;5;28;01mdef\u001b[39;00m \u001b[38;5;21m__init__\u001b[39m(\u001b[38;5;28mself\u001b[39m, size_average\u001b[38;5;241m=\u001b[39m\u001b[38;5;28;01mNone\u001b[39;00m, reduce\u001b[38;5;241m=\u001b[39m\u001b[38;5;28;01mNone\u001b[39;00m, reduction: \u001b[38;5;28mstr\u001b[39m \u001b[38;5;241m=\u001b[39m \u001b[38;5;124m'\u001b[39m\u001b[38;5;124mmean\u001b[39m\u001b[38;5;124m'\u001b[39m) \u001b[38;5;241m-\u001b[39m\u001b[38;5;241m>\u001b[39m \u001b[38;5;28;01mNone\u001b[39;00m:\n\u001b[1;32m--> 532\u001b[0m     \u001b[38;5;28;43msuper\u001b[39;49m\u001b[43m(\u001b[49m\u001b[43m)\u001b[49m\u001b[38;5;241;43m.\u001b[39;49m\u001b[38;5;21;43m__init__\u001b[39;49m\u001b[43m(\u001b[49m\u001b[43msize_average\u001b[49m\u001b[43m,\u001b[49m\u001b[43m \u001b[49m\u001b[43mreduce\u001b[49m\u001b[43m,\u001b[49m\u001b[43m \u001b[49m\u001b[43mreduction\u001b[49m\u001b[43m)\u001b[49m\n",
      "File \u001b[1;32mc:\\Users\\Paul\\AppData\\Local\\Programs\\Python\\Python312\\Lib\\site-packages\\torch\\nn\\modules\\loss.py:23\u001b[0m, in \u001b[0;36m_Loss.__init__\u001b[1;34m(self, size_average, reduce, reduction)\u001b[0m\n\u001b[0;32m     21\u001b[0m \u001b[38;5;28msuper\u001b[39m()\u001b[38;5;241m.\u001b[39m\u001b[38;5;21m__init__\u001b[39m()\n\u001b[0;32m     22\u001b[0m \u001b[38;5;28;01mif\u001b[39;00m size_average \u001b[38;5;129;01mis\u001b[39;00m \u001b[38;5;129;01mnot\u001b[39;00m \u001b[38;5;28;01mNone\u001b[39;00m \u001b[38;5;129;01mor\u001b[39;00m reduce \u001b[38;5;129;01mis\u001b[39;00m \u001b[38;5;129;01mnot\u001b[39;00m \u001b[38;5;28;01mNone\u001b[39;00m:\n\u001b[1;32m---> 23\u001b[0m     \u001b[38;5;28mself\u001b[39m\u001b[38;5;241m.\u001b[39mreduction: \u001b[38;5;28mstr\u001b[39m \u001b[38;5;241m=\u001b[39m \u001b[43m_Reduction\u001b[49m\u001b[38;5;241;43m.\u001b[39;49m\u001b[43mlegacy_get_string\u001b[49m\u001b[43m(\u001b[49m\u001b[43msize_average\u001b[49m\u001b[43m,\u001b[49m\u001b[43m \u001b[49m\u001b[43mreduce\u001b[49m\u001b[43m)\u001b[49m\n\u001b[0;32m     24\u001b[0m \u001b[38;5;28;01melse\u001b[39;00m:\n\u001b[0;32m     25\u001b[0m     \u001b[38;5;28mself\u001b[39m\u001b[38;5;241m.\u001b[39mreduction \u001b[38;5;241m=\u001b[39m reduction\n",
      "File \u001b[1;32mc:\\Users\\Paul\\AppData\\Local\\Programs\\Python\\Python312\\Lib\\site-packages\\torch\\nn\\_reduction.py:35\u001b[0m, in \u001b[0;36mlegacy_get_string\u001b[1;34m(size_average, reduce, emit_warning)\u001b[0m\n\u001b[0;32m     32\u001b[0m \u001b[38;5;28;01mif\u001b[39;00m reduce \u001b[38;5;129;01mis\u001b[39;00m \u001b[38;5;28;01mNone\u001b[39;00m:\n\u001b[0;32m     33\u001b[0m     reduce \u001b[38;5;241m=\u001b[39m \u001b[38;5;28;01mTrue\u001b[39;00m\n\u001b[1;32m---> 35\u001b[0m \u001b[38;5;28;01mif\u001b[39;00m size_average \u001b[38;5;129;01mand\u001b[39;00m reduce:\n\u001b[0;32m     36\u001b[0m     ret \u001b[38;5;241m=\u001b[39m \u001b[38;5;124m'\u001b[39m\u001b[38;5;124mmean\u001b[39m\u001b[38;5;124m'\u001b[39m\n\u001b[0;32m     37\u001b[0m \u001b[38;5;28;01melif\u001b[39;00m reduce:\n",
      "\u001b[1;31mRuntimeError\u001b[0m: Boolean value of Tensor with more than one value is ambiguous"
     ]
    }
   ],
   "source": [
    "# big_model = RegressionNN(\n",
    "#     drop = 0.5,\n",
    "#     layer_sizes = [303, 303, 256, 256, 256, 128, 128, 64]\n",
    "#     ).to(my_device)\n",
    "\n",
    "# big_losses = train(big_model, epochs=10)\n",
    "eval_trained_model(model, losses, test_date)"
   ]
  },
  {
   "cell_type": "markdown",
   "metadata": {},
   "source": [
    "## Saving the models"
   ]
  },
  {
   "cell_type": "code",
   "execution_count": null,
   "metadata": {},
   "outputs": [
    {
     "name": "stdout",
     "output_type": "stream",
     "text": [
      "Model saved to big_reg_model.pth\n"
     ]
    }
   ],
   "source": [
    "def save_model(model, name):\n",
    "    path = f'models/{name}.pth'\n",
    "    torch.save(model.state_dict(), path)\n",
    "    print(f\"Model saved to {path}\")\n"
   ]
  }
 ],
 "metadata": {
  "kernelspec": {
   "display_name": "Python 3",
   "language": "python",
   "name": "python3"
  },
  "language_info": {
   "codemirror_mode": {
    "name": "ipython",
    "version": 3
   },
   "file_extension": ".py",
   "mimetype": "text/x-python",
   "name": "python",
   "nbconvert_exporter": "python",
   "pygments_lexer": "ipython3",
   "version": "3.12.0"
  }
 },
 "nbformat": 4,
 "nbformat_minor": 2
}
