{
 "cells": [
  {
   "cell_type": "markdown",
   "metadata": {},
   "source": [
    "# Machine Learning Notebook\n",
    "## EDA"
   ]
  },
  {
   "cell_type": "code",
   "execution_count": null,
   "metadata": {},
   "outputs": [],
   "source": [
    "import pandas as pd\n",
    "import numpy as np\n",
    "import matplotlib.pyplot as plt\n"
   ]
  },
  {
   "cell_type": "code",
   "execution_count": null,
   "metadata": {},
   "outputs": [],
   "source": [
    "df = pd.read_csv('./data/derstandard_frontpage_data.csv')\n",
    "\n",
    "# prepare time data\n",
    "df['time'] = pd.to_datetime(df['time'])\n",
    "df['weekday'] = df['time'].dt.weekday\n",
    "df\n"
   ]
  },
  {
   "cell_type": "code",
   "execution_count": null,
   "metadata": {},
   "outputs": [],
   "source": [
    "# plot number of articles per day\n",
    "df.groupby(df['time'].dt.date).count()['title'].plot()\n"
   ]
  },
  {
   "cell_type": "code",
   "execution_count": null,
   "metadata": {},
   "outputs": [],
   "source": [
    "# make a smoothed plot of the number of articles per day\n",
    "df.groupby(df['time'].dt.date).count()['title'].rolling(7).mean().plot()\n"
   ]
  },
  {
   "cell_type": "code",
   "execution_count": null,
   "metadata": {},
   "outputs": [],
   "source": [
    "# which weekday has the most articles?\n",
    "df.groupby('weekday').count()['title'].plot.bar()\n",
    "plt.xticks(np.arange(7), ['Monday', 'Tuesday', 'Wednesday', 'Thursday', 'Friday', 'Saturday', 'Sunday'])\n",
    "plt\n"
   ]
  },
  {
   "cell_type": "code",
   "execution_count": null,
   "metadata": {},
   "outputs": [],
   "source": [
    "# how many articles have a story label? how many don't?\n",
    "label_counts = df['storylabels'].value_counts(dropna=False)\n",
    "print(label_counts)\n",
    "print(f'\\nPercentage of articles without a story label: {label_counts.iloc[0] / len(df) * 100:.2f}%')\n",
    "\n"
   ]
  },
  {
   "cell_type": "code",
   "execution_count": null,
   "metadata": {},
   "outputs": [],
   "source": [
    "# Plot the number of articles per story label\n",
    "plt.figure(figsize=(10, 5))\n",
    "df['storylabels'].value_counts().plot.bar()\n"
   ]
  },
  {
   "cell_type": "code",
   "execution_count": null,
   "metadata": {},
   "outputs": [],
   "source": [
    "# Lets look at the kicker labels\n",
    "kickers = df['kicker'].value_counts()\n",
    "print(f'Number of unique kicker labels: {len(kickers)}\\n')\n",
    "# print the 20 most common kicker labels\n",
    "print(f'Most common kicker labels:\\n{kickers[:20]}\\n')\n"
   ]
  },
  {
   "cell_type": "code",
   "execution_count": null,
   "metadata": {},
   "outputs": [],
   "source": [
    "# plot them as a stacked chart, but it looks like sh*t, look at this later\n",
    "top_10_labels = df['kicker'].value_counts().nlargest(10).index\n",
    "filtered_df = df[df['kicker'].isin(top_10_labels)]\n",
    "\n",
    "pivot_df = filtered_df.pivot_table(index='time', columns='kicker', aggfunc='size', fill_value=0)\n",
    "\n",
    "plt.figure(figsize=(10, 5))\n",
    "pivot_df.plot.area(stacked=True)\n",
    "plt.title('Top 10 Kicker Labels Over the Year')\n",
    "plt.xlabel('Date')\n",
    "plt.ylabel('Count')\n",
    "plt.show()"
   ]
  },
  {
   "cell_type": "markdown",
   "metadata": {},
   "source": [
    "## Machine learning\n",
    "**TODO:**\n",
    "* do we need to normalize some things?\n",
    "* train/test split yada yada.."
   ]
  }
 ],
 "metadata": {
  "language_info": {
   "codemirror_mode": {
    "name": "ipython",
    "version": 3
   },
   "file_extension": ".py",
   "mimetype": "text/x-python",
   "name": "python",
   "nbconvert_exporter": "python",
   "pygments_lexer": "ipython3",
   "version": 3
  }
 },
 "nbformat": 4,
 "nbformat_minor": 2
}
