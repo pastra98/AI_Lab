{
 "cells": [
  {
   "cell_type": "markdown",
   "id": "92661df5",
   "metadata": {},
   "source": [
    "# Data Science and Artificial Intelligengce - Unit1\n",
    "## **Axel Polleres**\n",
    "## 24 November 2023"
   ]
  },
  {
   "cell_type": "markdown",
   "id": "6623a1c2",
   "metadata": {},
   "source": [
    "# Unit1  Goals"
   ]
  },
  {
   "cell_type": "markdown",
   "id": "1a57a8a3",
   "metadata": {},
   "source": [
    "* What is Data Science?"
   ]
  },
  {
   "cell_type": "markdown",
   "id": "f14a1401",
   "metadata": {},
   "source": [
    "* **What is (Artificial) Intelligence?**"
   ]
  },
  {
   "cell_type": "markdown",
   "id": "392f3fbf",
   "metadata": {},
   "source": [
    "* How do they differ?"
   ]
  },
  {
   "cell_type": "markdown",
   "id": "67889e66",
   "metadata": {},
   "source": [
    "# Unit1  Pre-reading Literature and Videos\n",
    "\n",
    "In preparation of Unit 1 and to enable a discussion, you should read and prepare some materials, in order to clarify the above questions for yourself and discuss them in more depth in class.\n",
    "The present notebook is supposed to serve as a \"reading guide\" for this preparation, pointing out to mandatory and optional pre-readings, relating those with some Exercise questions you should answer - ideally -  before the lecture.\n",
    "\n",
    "***Hint:*** If you have less time to prepare, start with part 2 - What is (Artificial) Intelligence?"
   ]
  },
  {
   "cell_type": "markdown",
   "id": "c066815e",
   "metadata": {},
   "source": [
    "# What is Data Science?\n",
    "\n",
    "There are many books on Data Science and the Data Science Process. In our undergraduate lectures, we sometimes refer to the book \"Doing Data Science\" by Rachel Schutt, who illustrates the \"Data Science Process\" as follows:\n",
    "\n",
    "![DataScienceProcess](materials_and_images/TheDataScienceProcess.png \"The Data Science Process\")\n",
    "<br/>***The Data Science Process according to (O'Neil, Schutt, 2013), chapter 2***\n",
    "\n",
    "In fact, you will realize that we have talked about many of the steps in this process already in our **Data Management and Analytics** course. So, the good news is: to some extent you may already consider yourself a Data Scientist.\n",
    "\n",
    "<div class=\"alert alert-block alert-warning\">\n",
    "<strong>Exercise:</strong> \n",
    "\n",
    "Read the [first two chapters of \"Doing Data Science\"](materials_and_images/Doing_Data_Science_chapters1+2.pdf)  \n",
    "\n",
    "\n",
    "* Reflect on which steps of the Data Science Process you already have practiced in in our **Data Management and Analytics** course\n",
    "* **Side question** which steps of the Data Science Process could benefit from AI?\n",
    "\n",
    "</div>"
   ]
  },
  {
   "cell_type": "markdown",
   "id": "d944819d",
   "metadata": {},
   "source": [
    "-- YOUR ANSWER HERE"
   ]
  },
  {
   "cell_type": "markdown",
   "id": "fec67f06",
   "metadata": {},
   "source": [
    "In fact when you read up on Data Science, you will realize that Data Science is often associated with building **Machine Learning** models, which we have partially already talked about in the Data Management and Analytics.\n",
    "Machine Learning is - recently - often conflated with Artificial Intelligence, although it is only one of the many subdisciplines of Data Science and Artificial Intelligence.\n",
    "\n",
    "Data Science and Artificial Intelligence are both **multi-disciplinary**, both in terms of technical aspects/subdisciplines and non-technical aspects, as illustrated by the following image, also from [1]:\n",
    "\n",
    "![DataScienceVennDiagramme](materials_and_images/DataScienceVennDiagramme.png \"Data Science Venn Diagramme by Drew Conway (2010)\")\n",
    "<br/>***[\"Data Science Venn Diagramme\" by Drew Conway (2010)](http://drewconway.com/zia/2013/3/26/the-data-science-venn-diagram)***\n",
    "\n",
    "Another \"Data Science Venn Diagramm\" by Brendan Thierney (2012) illustrates the intertwined technical disciplines even better:\n",
    "\n",
    "![DataScienceVennDiagramme2](materials_and_images/DataScienceVennDiagramme2.jpg \"Data Science Venn Diagramme by by Brendan Thierney (2013)\")\n",
    "<br/>***[\"Data Science Venn Diagramme\" by Brendan Thierney (2012)](https://oralytics.com/2012/06/13/data-science-is-multidisciplinary/)***\n",
    "\n",
    "Each of the mentioned disciplines alone here could easily fill a full MSc course.\n",
    "\n",
    "Some would even argue that \n",
    "* \"Data Science\" is just Applied Statistics, like David Donoho in his article [\"50 years of Data Science\"](materials_and_images/50YearsDataScience.pdf) [2], or\n",
    "* \"Data Science\" is just Computer Science/Databases, like Jeff Ullman [3]\n",
    "\n",
    "![DataScienceVennDiagramme3](materials_and_images/DataScienceVennDiagramme3.png)\n",
    "<br/>***\"Data Science Venn Diagramme\" by Jeff Ullman (2018) [3]***\n",
    "\n",
    "***(Disputable) take home summary for \"What is Data Science?\":***\n",
    "* Data Science is a term to summarise the multi-disciplinary approach to solve data-driven problems or develop data-driven products \n",
    "* You already know quite a lot about Data Science (from our earlier course)\n",
    "* (Some) Artificial Intelligence techniques are used in Data Science\n",
    "\n",
    "We will leave it at that with **Data Science** for now, but rather (for the rest of this course indeed) turn our focus to Artificial Intelligence."
   ]
  },
  {
   "cell_type": "markdown",
   "id": "a6109e17",
   "metadata": {},
   "source": [
    "# What is Artificial Intelligence?\n",
    "\n",
    "\n",
    "<div class=\"alert alert-block alert-warning\">\n",
    "<strong>Exercise:</strong> \n",
    "\n",
    "Before you read on, and maybe before you read on, ask yourself What is actually Intelligence?\n",
    "    \n",
    "* Write down at least two aspects of \"Intelligence\"\n",
    "\n",
    "</div>"
   ]
  },
  {
   "cell_type": "markdown",
   "id": "cfb69c7a",
   "metadata": {},
   "source": [
    "-- YOUR ANSWER HERE"
   ]
  },
  {
   "cell_type": "markdown",
   "id": "9aa6ecb2",
   "metadata": {},
   "source": [
    "### The Turing-Test\n",
    "\n",
    "Long before the Term \"Artificial Intelligence\" was first used, [Alan Turing](https://en.wikipedia.org/wiki/Alan_Turing), a pioneer and thinker in many ways, shaping the way we nowadays think about Computer Science with his\n",
    "\n",
    "* models of computatation and computability\n",
    "* and the \"Imitation Game\" (also called the Turing-Test?)\n",
    "has raised the question \"Can computers think?\"\n",
    "\n",
    "Modern AI tools and techniques can achieve fascinating results on the questions raised and discussed in Turing's article:\n",
    "![GPT3session](materials_and_images/GPT3-OpenAI_sample_ession.png \"A session using OpenAI, an interface based on a modern 'AI' large language model, GPT-3\")\n",
    "\n",
    "<div class=\"alert alert-block alert-warning\">\n",
    "<strong>Exercise:</strong> \n",
    "\n",
    "Read Alan Turing's 1950 Article [\"COMPUTING MACHINERY AND INTELLIGENCE\"](https://doi.org/10.1093/mind/LIX.236.433) [5], speculating about whether and how computers can ever think.  \n",
    "\n",
    "* Reading this article, do you think we have achieved passing the Turing-test?\n",
    "\n",
    "**Hint1:** you may also want to watch this recent keynote by Steve Moyle at SEMANTICs 2022 in Vienna titled \"Taming Turing's Legacy\" which explains some main parts of that paper in a more digestable [Video](https://www.youtube.com/watch?v=9PbuiuJ3iYw&t=5384s)\n",
    "    \n",
    "**Hint2:** you may also want to try out [OpenAI's GPT-3](https://beta.openai.com/playground) and decide for yourself... \n",
    "\n",
    "</div>"
   ]
  },
  {
   "cell_type": "markdown",
   "id": "f0d63af5",
   "metadata": {},
   "source": [
    "-- YOUR ANSWER HERE"
   ]
  },
  {
   "cell_type": "markdown",
   "id": "baa0de03",
   "metadata": {},
   "source": [
    "There are many books on Artificial Intelligence. \n",
    "One of the most widely used textbooks over several decades now for teaching Artificial Intelligence, already in its 4th edition is \"Artificial Intelligence: A Modern Approach\" by Stuart Russel anf Peter Norvig [5].\n",
    "\n",
    "\n",
    "<div class=\"alert alert-block alert-warning\">\n",
    "<strong>Exercise:</strong> \n",
    "\n",
    "Read the [chapter1](https://people.eecs.berkeley.edu/~russell/aima1e/chapter01.pdf) and [chapter2](https://people.eecs.berkeley.edu/~russell/aima1e/chapter01.pdf) of \"Artificial Intelligence: A Modern Approach\". \n",
    "\n",
    "* Following the Darthmouth Workshop in 1956, where the term \"Artificial Intelligence\" was coined **name some milestones in the development of Artificial Intelligence** and put them on a timeline (years).\n",
    "\n",
    "</div>"
   ]
  },
  {
   "cell_type": "markdown",
   "id": "75b0760e",
   "metadata": {},
   "source": [
    "-- YOUR ANSWER HERE"
   ]
  },
  {
   "cell_type": "markdown",
   "id": "0283c9b1",
   "metadata": {},
   "source": [
    "As a last \"preparation\" to our course, I encourage you to read Adnan Darwiche's article \n",
    "[\"Human-Level Intelligence or Animal-Like Abilities?\"](https://cacm.acm.org/magazines/2018/10/231373-human-level-intelligence-or-animal-like-abilities/fulltext) [6].\n",
    "\n",
    "Some of the things mentioned in this article about the different strands of AI and their development, are also mentioned in the following (in the meantime maybe even slightly outdated) talk by \n",
    "John Launchbury, the Director of DARPA's Information Innovation Office. [Video](https://www.youtube.com/watch?v=-O01G3tSYpU)\n",
    "\n",
    "Both highlight \n",
    "* the **factors that have enabled recent breakthroughs in Artificial Intelligence** and \n",
    "* argue that the **two different \"main strands\" or \"waves\" of Artificial Intelligence** will need to converge again ro need to be combined to make the next leap forward.\n",
    "\n",
    "<div class=\"alert alert-block alert-warning\">\n",
    "<strong>Exercise:</strong> \n",
    "\n",
    "Read the article by Adnan Darwiche [6] and (optionally) watch the talk by John Launchbury. Answer the following question:\n",
    "\n",
    "* What were the two different \"main strands\" or \"waves\" of Artificial Intelligence?\n",
    "* Which factors have enabled the recent breakthroughs in Artificial Intelligence?\n",
    "\n",
    "</div>"
   ]
  },
  {
   "cell_type": "markdown",
   "id": "2e9f8fa6",
   "metadata": {},
   "source": [
    "-- YOUR ANSWER HERE"
   ]
  },
  {
   "cell_type": "markdown",
   "id": "2197ed57",
   "metadata": {},
   "source": [
    "### References:\n",
    "\n",
    "1. O'Neil, Cathy, Schutt, Rachel (2013). Doing Data Science. O'Reilly.\n",
    "2. David Donoho (2017) 50 Years of Data Science, Journal of Computational and Graphical Statistics, 26:4, 745-766, DOI: 10.1080/10618600.2017.1384734\n",
    "3. Jeff Ullmann (2018) - Invited Talk \"Data science: Is it real?\" at university of Waterloo [Video](https://www.youtube.com/watch?v=h1Z91Klj7ng) \n",
    "4. Alan M. Turing (1950) COMPUTING MACHINERY AND INTELLIGENCE. Mind, Volume LIX, Issue 236, October 1950, Pages 433–460, https://doi.org/10.1093/mind/LIX.236.433\n",
    "5. Stuart Russell and Peter Norvig (2021). Artificial Intelligence: A Modern Approach, 4th Edition (2021)\n",
    "6. Adnan Darwiche. Human-Level Intelligence or Animal-Like Abilities? Communications of the ACM, October 2018, Vol. 61 No. 10, Pages 56-67 https://doi.org/10.1145/3271625\n",
    "7. John Launchbury (2017). \"A DARPA Perspective on Artificial Intelligence\" -  [Video](https://www.youtube.com/watch?v=-O01G3tSYpU)"
   ]
  }
 ],
 "metadata": {
  "jupytext": {
   "cell_metadata_filter": "-all",
   "main_language": "python"
  },
  "kernelspec": {
   "display_name": "Python 3 (ipykernel)",
   "language": "python",
   "name": "python3"
  },
  "language_info": {
   "codemirror_mode": {
    "name": "ipython",
    "version": 3
   },
   "file_extension": ".py",
   "mimetype": "text/x-python",
   "name": "python",
   "nbconvert_exporter": "python",
   "pygments_lexer": "ipython3",
   "version": "3.9.15"
  }
 },
 "nbformat": 4,
 "nbformat_minor": 5
}
